{
 "cells": [
  {
   "cell_type": "code",
   "execution_count": 1,
   "metadata": {},
   "outputs": [
    {
     "name": "stderr",
     "output_type": "stream",
     "text": [
      "Loading required package: data.table\n",
      "\n",
      "Loading required package: biomaRt\n",
      "\n"
     ]
    }
   ],
   "source": [
    "require(data.table)\n",
    "require(biomaRt)"
   ]
  },
  {
   "cell_type": "code",
   "execution_count": 2,
   "metadata": {},
   "outputs": [],
   "source": [
    "ensembl = useMart(\"ensembl\")"
   ]
  },
  {
   "cell_type": "code",
   "execution_count": 3,
   "metadata": {},
   "outputs": [
    {
     "data": {
      "text/html": [
       "<table class=\"dataframe\">\n",
       "<caption>A data.table: 1 × 3</caption>\n",
       "<thead>\n",
       "\t<tr><th scope=col>dataset</th><th scope=col>description</th><th scope=col>version</th></tr>\n",
       "\t<tr><th scope=col>&lt;I&lt;chr&gt;&gt;</th><th scope=col>&lt;I&lt;chr&gt;&gt;</th><th scope=col>&lt;I&lt;chr&gt;&gt;</th></tr>\n",
       "</thead>\n",
       "<tbody>\n",
       "\t<tr><td>hsapiens_gene_ensembl</td><td>Human genes (GRCh38.p13)</td><td>GRCh38.p13</td></tr>\n",
       "</tbody>\n",
       "</table>\n"
      ],
      "text/latex": [
       "A data.table: 1 × 3\n",
       "\\begin{tabular}{lll}\n",
       " dataset & description & version\\\\\n",
       " <I<chr>> & <I<chr>> & <I<chr>>\\\\\n",
       "\\hline\n",
       "\t hsapiens\\_gene\\_ensembl & Human genes (GRCh38.p13) & GRCh38.p13\\\\\n",
       "\\end{tabular}\n"
      ],
      "text/markdown": [
       "\n",
       "A data.table: 1 × 3\n",
       "\n",
       "| dataset &lt;I&lt;chr&gt;&gt; | description &lt;I&lt;chr&gt;&gt; | version &lt;I&lt;chr&gt;&gt; |\n",
       "|---|---|---|\n",
       "| hsapiens_gene_ensembl | Human genes (GRCh38.p13) | GRCh38.p13 |\n",
       "\n"
      ],
      "text/plain": [
       "  dataset               description              version   \n",
       "1 hsapiens_gene_ensembl Human genes (GRCh38.p13) GRCh38.p13"
      ]
     },
     "metadata": {},
     "output_type": "display_data"
    }
   ],
   "source": [
    "as.data.table(listDatasets(ensembl))[grepl(\"sapiens\", dataset)]"
   ]
  },
  {
   "cell_type": "code",
   "execution_count": 4,
   "metadata": {},
   "outputs": [],
   "source": [
    "ensembl = useDataset(\"hsapiens_gene_ensembl\", mart=ensembl)"
   ]
  },
  {
   "cell_type": "code",
   "execution_count": 5,
   "metadata": {},
   "outputs": [
    {
     "data": {
      "text/html": [
       "<table class=\"dataframe\">\n",
       "<caption>A data.table: 6 × 1</caption>\n",
       "<thead>\n",
       "\t<tr><th scope=col>gene_name</th></tr>\n",
       "\t<tr><th scope=col>&lt;chr&gt;</th></tr>\n",
       "</thead>\n",
       "<tbody>\n",
       "\t<tr><td>GPM6A   </td></tr>\n",
       "\t<tr><td>SERPINE2</td></tr>\n",
       "\t<tr><td>CRYM    </td></tr>\n",
       "\t<tr><td>SPARCL1 </td></tr>\n",
       "\t<tr><td>ITPR2   </td></tr>\n",
       "\t<tr><td>CHN1    </td></tr>\n",
       "</tbody>\n",
       "</table>\n"
      ],
      "text/latex": [
       "A data.table: 6 × 1\n",
       "\\begin{tabular}{l}\n",
       " gene\\_name\\\\\n",
       " <chr>\\\\\n",
       "\\hline\n",
       "\t GPM6A   \\\\\n",
       "\t SERPINE2\\\\\n",
       "\t CRYM    \\\\\n",
       "\t SPARCL1 \\\\\n",
       "\t ITPR2   \\\\\n",
       "\t CHN1    \\\\\n",
       "\\end{tabular}\n"
      ],
      "text/markdown": [
       "\n",
       "A data.table: 6 × 1\n",
       "\n",
       "| gene_name &lt;chr&gt; |\n",
       "|---|\n",
       "| GPM6A    |\n",
       "| SERPINE2 |\n",
       "| CRYM     |\n",
       "| SPARCL1  |\n",
       "| ITPR2    |\n",
       "| CHN1     |\n",
       "\n"
      ],
      "text/plain": [
       "  gene_name\n",
       "1 GPM6A    \n",
       "2 SERPINE2 \n",
       "3 CRYM     \n",
       "4 SPARCL1  \n",
       "5 ITPR2    \n",
       "6 CHN1     "
      ]
     },
     "metadata": {},
     "output_type": "display_data"
    }
   ],
   "source": [
    "gene_data = fread(\"../data/gene.data.tsv\")\n",
    "head(gene_data)"
   ]
  },
  {
   "cell_type": "code",
   "execution_count": 13,
   "metadata": {},
   "outputs": [],
   "source": [
    "gene_location = getBM(attributes=c('hgnc_symbol', 'chromosome_name', 'start_position', 'end_position', 'strand'),\n",
    "    filters=c('hgnc_symbol'),\n",
    "    values=list(gene_data$gene_name),\n",
    "    mart=ensembl)"
   ]
  },
  {
   "cell_type": "code",
   "execution_count": 22,
   "metadata": {},
   "outputs": [],
   "source": [
    "gene_location = as.data.table(gene_location)"
   ]
  },
  {
   "cell_type": "code",
   "execution_count": 23,
   "metadata": {},
   "outputs": [
    {
     "data": {
      "text/html": [
       "<table class=\"dataframe\">\n",
       "<caption>A data.table: 6 × 2</caption>\n",
       "<thead>\n",
       "\t<tr><th scope=col>hgnc_symbol</th><th scope=col>N</th></tr>\n",
       "\t<tr><th scope=col>&lt;chr&gt;</th><th scope=col>&lt;int&gt;</th></tr>\n",
       "</thead>\n",
       "<tbody>\n",
       "\t<tr><td>CNTNAP2</td><td>2</td></tr>\n",
       "\t<tr><td>ID3    </td><td>2</td></tr>\n",
       "\t<tr><td>NOSTRIN</td><td>2</td></tr>\n",
       "\t<tr><td>PTPRD  </td><td>2</td></tr>\n",
       "\t<tr><td>PTPRK  </td><td>2</td></tr>\n",
       "\t<tr><td>PVALB  </td><td>2</td></tr>\n",
       "</tbody>\n",
       "</table>\n"
      ],
      "text/latex": [
       "A data.table: 6 × 2\n",
       "\\begin{tabular}{ll}\n",
       " hgnc\\_symbol & N\\\\\n",
       " <chr> & <int>\\\\\n",
       "\\hline\n",
       "\t CNTNAP2 & 2\\\\\n",
       "\t ID3     & 2\\\\\n",
       "\t NOSTRIN & 2\\\\\n",
       "\t PTPRD   & 2\\\\\n",
       "\t PTPRK   & 2\\\\\n",
       "\t PVALB   & 2\\\\\n",
       "\\end{tabular}\n"
      ],
      "text/markdown": [
       "\n",
       "A data.table: 6 × 2\n",
       "\n",
       "| hgnc_symbol &lt;chr&gt; | N &lt;int&gt; |\n",
       "|---|---|\n",
       "| CNTNAP2 | 2 |\n",
       "| ID3     | 2 |\n",
       "| NOSTRIN | 2 |\n",
       "| PTPRD   | 2 |\n",
       "| PTPRK   | 2 |\n",
       "| PVALB   | 2 |\n",
       "\n"
      ],
      "text/plain": [
       "  hgnc_symbol N\n",
       "1 CNTNAP2     2\n",
       "2 ID3         2\n",
       "3 NOSTRIN     2\n",
       "4 PTPRD       2\n",
       "5 PTPRK       2\n",
       "6 PVALB       2"
      ]
     },
     "metadata": {},
     "output_type": "display_data"
    }
   ],
   "source": [
    "gene_location[, .N, by=hgnc_symbol][N>1]"
   ]
  },
  {
   "cell_type": "code",
   "execution_count": 31,
   "metadata": {},
   "outputs": [],
   "source": [
    "gene_location2 = gene_location[!grepl(\"CHR\", chromosome_name)]"
   ]
  },
  {
   "cell_type": "code",
   "execution_count": 33,
   "metadata": {},
   "outputs": [
    {
     "data": {
      "text/html": [
       "<table class=\"dataframe\">\n",
       "<caption>A data.table: 2 × 1</caption>\n",
       "<thead>\n",
       "\t<tr><th scope=col>gene_name</th></tr>\n",
       "\t<tr><th scope=col>&lt;chr&gt;</th></tr>\n",
       "</thead>\n",
       "<tbody>\n",
       "\t<tr><td>LRMP      </td></tr>\n",
       "\t<tr><td>LINCR-0003</td></tr>\n",
       "</tbody>\n",
       "</table>\n"
      ],
      "text/latex": [
       "A data.table: 2 × 1\n",
       "\\begin{tabular}{l}\n",
       " gene\\_name\\\\\n",
       " <chr>\\\\\n",
       "\\hline\n",
       "\t LRMP      \\\\\n",
       "\t LINCR-0003\\\\\n",
       "\\end{tabular}\n"
      ],
      "text/markdown": [
       "\n",
       "A data.table: 2 × 1\n",
       "\n",
       "| gene_name &lt;chr&gt; |\n",
       "|---|\n",
       "| LRMP       |\n",
       "| LINCR-0003 |\n",
       "\n"
      ],
      "text/plain": [
       "  gene_name \n",
       "1 LRMP      \n",
       "2 LINCR-0003"
      ]
     },
     "metadata": {},
     "output_type": "display_data"
    }
   ],
   "source": [
    "gene_data[!gene_name %in% gene_location2$hgnc_symbol]"
   ]
  },
  {
   "cell_type": "code",
   "execution_count": 34,
   "metadata": {},
   "outputs": [],
   "source": [
    "fwrite(gene_location2, \"../data/gene_location.data.tsv\", sep=\"\\t\")"
   ]
  }
 ],
 "metadata": {
  "kernelspec": {
   "display_name": "R 3.6",
   "language": "R",
   "name": "ir36"
  },
  "language_info": {
   "codemirror_mode": "r",
   "file_extension": ".r",
   "mimetype": "text/x-r-source",
   "name": "R",
   "pygments_lexer": "r",
   "version": "3.6.3"
  }
 },
 "nbformat": 4,
 "nbformat_minor": 4
}
