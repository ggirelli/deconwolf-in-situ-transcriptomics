{
 "cells": [
  {
   "cell_type": "code",
   "execution_count": 1,
   "metadata": {},
   "outputs": [
    {
     "name": "stderr",
     "output_type": "stream",
     "text": [
      "Loading required package: cowplot\n",
      "\n",
      "\n",
      "********************************************************\n",
      "\n",
      "Note: As of version 1.0.0, cowplot does not change the\n",
      "\n",
      "  default ggplot2 theme anymore. To recover the previous\n",
      "\n",
      "  behavior, execute:\n",
      "  theme_set(theme_cowplot())\n",
      "\n",
      "********************************************************\n",
      "\n",
      "\n",
      "Loading required package: data.table\n",
      "\n",
      "Loading required package: ggplot2\n",
      "\n",
      "Loading required package: ggpubr\n",
      "\n",
      "\n",
      "Attaching package: ‘ggpubr’\n",
      "\n",
      "\n",
      "The following object is masked from ‘package:cowplot’:\n",
      "\n",
      "    get_legend\n",
      "\n",
      "\n",
      "Loading required package: pbapply\n",
      "\n"
     ]
    }
   ],
   "source": [
    "require(cowplot)\n",
    "require(data.table)\n",
    "require(ggplot2)\n",
    "require(ggpubr)\n",
    "require(pbapply)\n",
    "pboptions(type=\"timer\")"
   ]
  },
  {
   "cell_type": "code",
   "execution_count": 2,
   "metadata": {},
   "outputs": [],
   "source": [
    "nthreads=10\n",
    "x_breaks = c(0, .01, .02, .03, .05, .07, .1, .2, .3, .5, .7, 1, 2, 3, 5, 7, 10, 20, 30, 50)"
   ]
  },
  {
   "cell_type": "markdown",
   "metadata": {},
   "source": [
    "# Read spot data"
   ]
  },
  {
   "cell_type": "code",
   "execution_count": 3,
   "metadata": {},
   "outputs": [],
   "source": [
    "thresholds = c(seq(0, .1, by=.01), seq(.2, 1, by=.1), seq(2, 50))\n",
    "dw__root = \"../data/single_FoV_different_thresholds/data/dw/\"\n",
    "raw_root = \"../data/single_FoV_different_thresholds/data/raw/\""
   ]
  },
  {
   "cell_type": "code",
   "execution_count": 4,
   "metadata": {},
   "outputs": [
    {
     "name": "stdout",
     "output_type": "stream",
     "text": [
      "  |++++++++++++++++++++++++++++++++++++++++++++++++++| 100% elapsed=05s  \n"
     ]
    }
   ],
   "source": [
    "dw__data = rbindlist(pblapply(thresholds, function(thr) {\n",
    "    d = fread(file.path(dw__root, sprintf(\"new_decoded_human_cortex_threshold_%05.2f_with_QC_metrics_type_of_unassigned.csv.gz\", thr)))\n",
    "    d$thr = thr\n",
    "    d$image_type = \"dw\"\n",
    "    return(d)\n",
    "}, cl=nthreads))"
   ]
  },
  {
   "cell_type": "code",
   "execution_count": 5,
   "metadata": {},
   "outputs": [
    {
     "name": "stdout",
     "output_type": "stream",
     "text": [
      "  |++++++++++++++++++++++++++++++++++++++++++++++++++| 100% elapsed=04s  \n"
     ]
    }
   ],
   "source": [
    "raw_data = rbindlist(pblapply(thresholds, function(thr) {\n",
    "    d = fread(file.path(raw_root, sprintf(\"new_decoded_human_cortex_before_deconvolution_threshold_%05.2f_with_QC_metrics_type_of_unassigned.csv.gz\", thr)))\n",
    "    d$thr = thr\n",
    "    d$image_type = \"raw\"\n",
    "    return(d)\n",
    "}, cl=nthreads))"
   ]
  },
  {
   "cell_type": "code",
   "execution_count": 6,
   "metadata": {},
   "outputs": [],
   "source": [
    "ddata = rbindlist(list(dw__data, raw_data))\n",
    "ddata[, V1 := NULL]\n",
    "ddata[, target_assigned := \"unassigned\"]\n",
    "ddata['nan' != target, target_assigned := \"assigned\"]"
   ]
  },
  {
   "cell_type": "code",
   "execution_count": 7,
   "metadata": {},
   "outputs": [
    {
     "data": {
      "text/html": [
       "<style>\n",
       ".list-inline {list-style: none; margin:0; padding: 0}\n",
       ".list-inline>li {display: inline-block}\n",
       ".list-inline>li:not(:last-child)::after {content: \"\\00b7\"; padding: 0 .5ex}\n",
       "</style>\n",
       "<ol class=list-inline><li>'intensity'</li><li>'z'</li><li>'y'</li><li>'x'</li><li>'radius'</li><li>'spot_id'</li><li>'z_min'</li><li>'z_max'</li><li>'y_min'</li><li>'y_max'</li><li>'x_min'</li><li>'x_max'</li><li>'features'</li><li>'xc'</li><li>'yc'</li><li>'zc'</li><li>'target'</li><li>'distance'</li><li>'passes_thresholds'</li><li>'FOV'</li><li>'QC_score'</li><li>'thr'</li><li>'image_type'</li><li>'target_assigned'</li></ol>\n"
      ],
      "text/latex": [
       "\\begin{enumerate*}\n",
       "\\item 'intensity'\n",
       "\\item 'z'\n",
       "\\item 'y'\n",
       "\\item 'x'\n",
       "\\item 'radius'\n",
       "\\item 'spot\\_id'\n",
       "\\item 'z\\_min'\n",
       "\\item 'z\\_max'\n",
       "\\item 'y\\_min'\n",
       "\\item 'y\\_max'\n",
       "\\item 'x\\_min'\n",
       "\\item 'x\\_max'\n",
       "\\item 'features'\n",
       "\\item 'xc'\n",
       "\\item 'yc'\n",
       "\\item 'zc'\n",
       "\\item 'target'\n",
       "\\item 'distance'\n",
       "\\item 'passes\\_thresholds'\n",
       "\\item 'FOV'\n",
       "\\item 'QC\\_score'\n",
       "\\item 'thr'\n",
       "\\item 'image\\_type'\n",
       "\\item 'target\\_assigned'\n",
       "\\end{enumerate*}\n"
      ],
      "text/markdown": [
       "1. 'intensity'\n",
       "2. 'z'\n",
       "3. 'y'\n",
       "4. 'x'\n",
       "5. 'radius'\n",
       "6. 'spot_id'\n",
       "7. 'z_min'\n",
       "8. 'z_max'\n",
       "9. 'y_min'\n",
       "10. 'y_max'\n",
       "11. 'x_min'\n",
       "12. 'x_max'\n",
       "13. 'features'\n",
       "14. 'xc'\n",
       "15. 'yc'\n",
       "16. 'zc'\n",
       "17. 'target'\n",
       "18. 'distance'\n",
       "19. 'passes_thresholds'\n",
       "20. 'FOV'\n",
       "21. 'QC_score'\n",
       "22. 'thr'\n",
       "23. 'image_type'\n",
       "24. 'target_assigned'\n",
       "\n",
       "\n"
      ],
      "text/plain": [
       " [1] \"intensity\"         \"z\"                 \"y\"                \n",
       " [4] \"x\"                 \"radius\"            \"spot_id\"          \n",
       " [7] \"z_min\"             \"z_max\"             \"y_min\"            \n",
       "[10] \"y_max\"             \"x_min\"             \"x_max\"            \n",
       "[13] \"features\"          \"xc\"                \"yc\"               \n",
       "[16] \"zc\"                \"target\"            \"distance\"         \n",
       "[19] \"passes_thresholds\" \"FOV\"               \"QC_score\"         \n",
       "[22] \"thr\"               \"image_type\"        \"target_assigned\"  "
      ]
     },
     "metadata": {},
     "output_type": "display_data"
    }
   ],
   "source": [
    "colnames(ddata)"
   ]
  },
  {
   "cell_type": "code",
   "execution_count": 8,
   "metadata": {},
   "outputs": [
    {
     "data": {
      "text/html": [
       "<style>\n",
       ".list-inline {list-style: none; margin:0; padding: 0}\n",
       ".list-inline>li {display: inline-block}\n",
       ".list-inline>li:not(:last-child)::after {content: \"\\00b7\"; padding: 0 .5ex}\n",
       "</style>\n",
       "<ol class=list-inline><li>'target'</li><li>'thr'</li><li>'dw'</li><li>'raw'</li></ol>\n"
      ],
      "text/latex": [
       "\\begin{enumerate*}\n",
       "\\item 'target'\n",
       "\\item 'thr'\n",
       "\\item 'dw'\n",
       "\\item 'raw'\n",
       "\\end{enumerate*}\n"
      ],
      "text/markdown": [
       "1. 'target'\n",
       "2. 'thr'\n",
       "3. 'dw'\n",
       "4. 'raw'\n",
       "\n",
       "\n"
      ],
      "text/plain": [
       "[1] \"target\" \"thr\"    \"dw\"     \"raw\"   "
      ]
     },
     "metadata": {},
     "output_type": "display_data"
    }
   ],
   "source": [
    "gene_counts = dcast(ddata[\"assigned\" == target_assigned, .N, by=c(\"image_type\", \"target\", \"thr\")],\n",
    "                    target+thr~image_type, value.var=\"N\")[order(dw, decreasing=T)]\n",
    "colnames(gene_counts)"
   ]
  },
  {
   "cell_type": "markdown",
   "metadata": {},
   "source": [
    "# Read strip data"
   ]
  },
  {
   "cell_type": "code",
   "execution_count": 9,
   "metadata": {},
   "outputs": [
    {
     "name": "stdout",
     "output_type": "stream",
     "text": [
      "  |++++++++++++++++++++++++++++++++++++++++++++++++++| 100% elapsed=00s  \n"
     ]
    },
    {
     "data": {
      "text/html": [
       "<style>\n",
       ".list-inline {list-style: none; margin:0; padding: 0}\n",
       ".list-inline>li {display: inline-block}\n",
       ".list-inline>li:not(:last-child)::after {content: \"\\00b7\"; padding: 0 .5ex}\n",
       "</style>\n",
       "<ol class=list-inline><li>'Cell_Num'</li><li>'X'</li><li>'Y'</li><li>'ClassName'</li><li>'Prob'</li><li>'image_type'</li><li>'annotated'</li></ol>\n"
      ],
      "text/latex": [
       "\\begin{enumerate*}\n",
       "\\item 'Cell\\_Num'\n",
       "\\item 'X'\n",
       "\\item 'Y'\n",
       "\\item 'ClassName'\n",
       "\\item 'Prob'\n",
       "\\item 'image\\_type'\n",
       "\\item 'annotated'\n",
       "\\end{enumerate*}\n"
      ],
      "text/markdown": [
       "1. 'Cell_Num'\n",
       "2. 'X'\n",
       "3. 'Y'\n",
       "4. 'ClassName'\n",
       "5. 'Prob'\n",
       "6. 'image_type'\n",
       "7. 'annotated'\n",
       "\n",
       "\n"
      ],
      "text/plain": [
       "[1] \"Cell_Num\"   \"X\"          \"Y\"          \"ClassName\"  \"Prob\"      \n",
       "[6] \"image_type\" \"annotated\" "
      ]
     },
     "metadata": {},
     "output_type": "display_data"
    }
   ],
   "source": [
    "cell_data = rbindlist(pblapply(c(\"dw\", \"raw\"), function(image_type) {\n",
    "    d = fread(file.path(\"../data/strip_of_tissue\", image_type, \"MP_snRNAseq_filt_subclass.csv\"))\n",
    "    d$image_type = image_type\n",
    "    return(d)\n",
    "}, cl=nthreads))\n",
    "cell_data[, V1 := NULL]\n",
    "cell_data[, annotated := \"unannotated\"]\n",
    "cell_data[\"Zero\" != ClassName, annotated := \"annotated\"]\n",
    "colnames(cell_data)"
   ]
  },
  {
   "cell_type": "markdown",
   "metadata": {},
   "source": [
    "# Panel X4A\n",
    "Median quality score of assigned dots."
   ]
  },
  {
   "cell_type": "code",
   "execution_count": 10,
   "metadata": {},
   "outputs": [],
   "source": [
    "qc_data = ddata[\"assigned\" == target_assigned, .(\n",
    "    QC_min=min(QC_score), QC_mean=mean(QC_score), QC_median=median(QC_score), QC_max=max(QC_score)\n",
    "), by=c(\"image_type\", \"thr\")]"
   ]
  },
  {
   "cell_type": "code",
   "execution_count": 11,
   "metadata": {},
   "outputs": [
    {
     "data": {
      "image/png": "[encoded data removed]",
      "text/plain": [
       "plot without title"
      ]
     },
     "metadata": {
      "image/png": {
       "height": 360,
       "width": 360
      },
      "text/plain": {
       "height": 360,
       "width": 360
      }
     },
     "output_type": "display_data"
    }
   ],
   "source": [
    "options(repr.plot.width=6, repr.plot.height=6)\n",
    "p = ggplot(qc_data, aes(x=thr+.001, y=QC_median, linetype=image_type)) + geom_line(color=\"#323232\") + geom_point(size=1) +\n",
    "    theme_bw() + theme(axis.text.x=element_text(angle=90, hjust=1, vjust=.5), legend.position=\"bottom\") +\n",
    "    labs(x=\"Threshold\", y=\"Median quality score\", linetype=\"Image type\", subtitle=\"Using only assigned dots\") +\n",
    "    scale_x_log10(breaks=x_breaks+.001, labels=x_breaks)\n",
    "print(p)"
   ]
  },
  {
   "cell_type": "code",
   "execution_count": 12,
   "metadata": {},
   "outputs": [],
   "source": [
    "ggsave(plot=p, file=\"panels/supp_fig_x4a.png\", width=4, height=4)\n",
    "saveRDS(p, \"panels_rds/supp_fig_x4a.rds\")"
   ]
  }
 ],
 "metadata": {
  "kernelspec": {
   "display_name": "R 3.6",
   "language": "R",
   "name": "ir36"
  },
  "language_info": {
   "codemirror_mode": "r",
   "file_extension": ".r",
   "mimetype": "text/x-r-source",
   "name": "R",
   "pygments_lexer": "r",
   "version": "3.6.3"
  }
 },
 "nbformat": 4,
 "nbformat_minor": 4
}
